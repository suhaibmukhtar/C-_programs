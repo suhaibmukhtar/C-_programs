{
 "cells": [
  {
   "cell_type": "code",
   "execution_count": 2,
   "id": "1916916c",
   "metadata": {},
   "outputs": [
    {
     "name": "stdout",
     "output_type": "stream",
     "text": [
      "Enter number of Stars:5\n",
      "* * * * * \n",
      "* * * * * \n",
      "* * * * * \n",
      "* * * * * \n",
      "* * * * * \n"
     ]
    }
   ],
   "source": [
    "# *****\n",
    "# *****\n",
    "# *****\n",
    "# *****\n",
    "# *****\n",
    "# *****\n",
    "n=int(input(\"Enter number of lines:\"))\n",
    "for i in range(n):\n",
    "    for j in range(n):\n",
    "        print(\"*\",end=\" \")\n",
    "    print()"
   ]
  },
  {
   "cell_type": "code",
   "execution_count": 4,
   "id": "c20ce932",
   "metadata": {},
   "outputs": [
    {
     "name": "stdout",
     "output_type": "stream",
     "text": [
      "Enter number of lines:5\n",
      "* \n",
      "* * \n",
      "* * * \n",
      "* * * * \n",
      "* * * * * \n"
     ]
    }
   ],
   "source": [
    "# *\n",
    "# * *\n",
    "# * * *\n",
    "# * * * *\n",
    "\n",
    "n=int(input(\"Enter number of lines:\"))\n",
    "for i in range(n):\n",
    "    for j in range(n):\n",
    "        if j<=i:\n",
    "            print(\"*\",end=\" \")\n",
    "    print()"
   ]
  },
  {
   "cell_type": "code",
   "execution_count": 12,
   "id": "be2d90f0",
   "metadata": {},
   "outputs": [
    {
     "name": "stdout",
     "output_type": "stream",
     "text": [
      "Enter the input:5\n",
      "1 \n",
      "1 2 \n",
      "1 2 3 \n",
      "1 2 3 4 \n",
      "1 2 3 4 5 \n",
      "1 \n",
      "1 2 \n",
      "1 2 3 \n",
      "1 2 3 4 \n",
      "1 2 3 4 5 \n"
     ]
    }
   ],
   "source": [
    "# 1\n",
    "# 1 2\n",
    "# 1 2 3\n",
    "# 1 2 3 4\n",
    "# 1 2 3 4 5\n",
    "n=int(input(\"Enter the input:\"))\n",
    "for i in range(1,n+1):\n",
    "    for j in range(1,n+1):\n",
    "        if j<=i:\n",
    "            print(j,end=\" \")\n",
    "    print()\n",
    "for i in range(1,n+1):\n",
    "    for j in range(1,i+1):\n",
    "        print(j,end=\" \")\n",
    "    print()"
   ]
  },
  {
   "cell_type": "code",
   "execution_count": 13,
   "id": "9a222ff5",
   "metadata": {},
   "outputs": [
    {
     "name": "stdout",
     "output_type": "stream",
     "text": [
      "Enter the number of lines:5\n",
      "1 \n",
      "2 2 \n",
      "3 3 3 \n",
      "4 4 4 4 \n",
      "5 5 5 5 5 \n"
     ]
    }
   ],
   "source": [
    "# 1\n",
    "# 2 2\n",
    "# 3 3 3\n",
    "# 4 4 4 4\n",
    "n=int(input(\"Enter the number of lines:\"))\n",
    "for i in range(1,n+1):\n",
    "    for j in range(1,i+1):\n",
    "            print(i,end=\" \")\n",
    "    print()\n",
    "    \n"
   ]
  },
  {
   "cell_type": "code",
   "execution_count": 21,
   "id": "a29292cf",
   "metadata": {},
   "outputs": [
    {
     "name": "stdout",
     "output_type": "stream",
     "text": [
      "Enter the number of lines:6\n",
      "1 2 3 4 5 6 \n",
      "1 2 3 4 5 \n",
      "1 2 3 4 \n",
      "1 2 3 \n",
      "1 2 \n",
      "1 \n"
     ]
    }
   ],
   "source": [
    "# ******\n",
    "# *****\n",
    "# ****\n",
    "# ***\n",
    "# *\n",
    "n=int(input(\"Enter the number of lines:\"))\n",
    "for i in range(0,n):\n",
    "    for j in range(1,(n-i+1)): #n-i+1 is used to decrease by ith value bcz python excludes last value\n",
    "        print(j,end=\" \")\n",
    "    print()"
   ]
  },
  {
   "cell_type": "code",
   "execution_count": 44,
   "id": "33827790",
   "metadata": {},
   "outputs": [
    {
     "name": "stdout",
     "output_type": "stream",
     "text": [
      "Enter the number:6\n",
      "_ _ _ _ _ * \n",
      "_ _ _ _ * * * \n",
      "_ _ _ * * * * * \n",
      "_ _ * * * * * * * \n",
      "_ * * * * * * * * * \n",
      "* * * * * * * * * * * \n"
     ]
    }
   ],
   "source": [
    "#       *\n",
    "#      ***\n",
    "#     *****\n",
    "#    *******\n",
    "#   *********\n",
    "#rows\n",
    "n=int(input(\"Enter the number:\"))\n",
    "for i in range(1,n+1):\n",
    "    #for spaces one  4,3,2,1 if n=5\n",
    "    for k in range(n,i,-1):\n",
    "        print(\"_\",end=\" \")\n",
    "    for j in range(1,2*i): # i=1 j=1 i=2,j=1,2,3 bcz last term is excluded\n",
    "        print(\"*\",end=\" \")\n",
    "    print()\n",
    "    "
   ]
  },
  {
   "cell_type": "code",
   "execution_count": 48,
   "id": "2f88cfc8",
   "metadata": {},
   "outputs": [
    {
     "name": "stdout",
     "output_type": "stream",
     "text": [
      "Enter the lines:5\n",
      "* * * * * * * * * \n",
      "_ * * * * * * * \n",
      "_ _ * * * * * \n",
      "_ _ _ * * * \n",
      "_ _ _ _ * \n"
     ]
    }
   ],
   "source": [
    "# * * * * * * *\n",
    "# _ * * * * *\n",
    "# _ _ * * *\n",
    "# _ _ _ *\n",
    "n=int(input('Enter the lines:'))\n",
    "for i in range(n,0,-1):\n",
    "    #spaces\n",
    "    for j in range(i,n): #n=5 space=1 inverse\n",
    "        print(\"_\",end=\" \")\n",
    "    #columns\n",
    "    for k in range(0,2*i-1):\n",
    "        print(\"*\",end=\" \")\n",
    "    print()"
   ]
  },
  {
   "cell_type": "code",
   "execution_count": 72,
   "id": "927b98ff",
   "metadata": {},
   "outputs": [
    {
     "name": "stdout",
     "output_type": "stream",
     "text": [
      "Enter the number of lines:5\n",
      "_ _ _ _ * \n",
      "_ _ _ * * * \n",
      "_ _ * * * * * \n",
      "_ * * * * * * * \n",
      "* * * * * * * * * \n",
      "_ * * * * * * * \n",
      "_ _ * * * * * \n",
      "_ _ _ * * * \n",
      "_ _ _ _ * \n"
     ]
    }
   ],
   "source": [
    "#       *\n",
    "#     * * *\n",
    "#   * * * * * \n",
    "# * * * * * * *\n",
    "#   * * * * *\n",
    "#     * * *\n",
    "#       * \n",
    "n=int(input(\"Enter the number of lines:\"))\n",
    "for i in range(0,n):\n",
    "    #spaces\n",
    "    for j in range(n,i+1,-1):\n",
    "        print(\"_\",end=\" \")\n",
    "    #columns\n",
    "    for k in range(0,2*i+1):\n",
    "        print(\"*\",end=\" \")\n",
    "    print()\n",
    "for i in range(n-1,0,-1):  \n",
    "    #space\n",
    "    for l in range(i,n):\n",
    "        print(\"_\",end=\" \")\n",
    "    #columns\n",
    "    for m in range(0,2*i-1):\n",
    "        print(\"*\",end=\" \")\n",
    "    print()\n",
    "#     for m in range()\n",
    "    \n",
    "    "
   ]
  },
  {
   "cell_type": "code",
   "execution_count": null,
   "id": "0bb572cb",
   "metadata": {},
   "outputs": [],
   "source": []
  }
 ],
 "metadata": {
  "kernelspec": {
   "display_name": "Python 3 (ipykernel)",
   "language": "python",
   "name": "python3"
  },
  "language_info": {
   "codemirror_mode": {
    "name": "ipython",
    "version": 3
   },
   "file_extension": ".py",
   "mimetype": "text/x-python",
   "name": "python",
   "nbconvert_exporter": "python",
   "pygments_lexer": "ipython3",
   "version": "3.9.13"
  }
 },
 "nbformat": 4,
 "nbformat_minor": 5
}
